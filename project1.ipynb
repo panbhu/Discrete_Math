{
  "nbformat": 4,
  "nbformat_minor": 0,
  "metadata": {
    "colab": {
      "name": "Untitled0.ipynb",
      "provenance": [],
      "collapsed_sections": [],
      "toc_visible": true,
      "authorship_tag": "ABX9TyPvCZLq9+dgGKtGtjE2ox9v",
      "include_colab_link": true
    },
    "kernelspec": {
      "name": "python3",
      "display_name": "Python 3"
    },
    "language_info": {
      "name": "python"
    }
  },
  "cells": [
    {
      "cell_type": "markdown",
      "metadata": {
        "id": "view-in-github",
        "colab_type": "text"
      },
      "source": [
        "<a href=\"https://colab.research.google.com/github/panbhu/Discrete_Math/blob/master/project1.ipynb\" target=\"_parent\"><img src=\"https://colab.research.google.com/assets/colab-badge.svg\" alt=\"Open In Colab\"/></a>"
      ]
    },
    {
      "cell_type": "markdown",
      "metadata": {
        "id": "lS6XLGwpsiHT"
      },
      "source": [
        "Project 1:\n",
        "\n",
        "Course: CPSMA 3133 Discrete Mathematics\n",
        "\n",
        "Name: Pankaj Bhusal\n",
        "\n",
        "ID: 0274444"
      ]
    },
    {
      "cell_type": "markdown",
      "metadata": {
        "id": "wvCBuMSQruBU"
      },
      "source": [
        "Question 1:\n",
        "\n",
        "SETS"
      ]
    },
    {
      "cell_type": "markdown",
      "metadata": {
        "id": "owhoLz9ExXUV"
      },
      "source": [
        "Here based on question we need to create 3 sets of 5 elements."
      ]
    },
    {
      "cell_type": "code",
      "metadata": {
        "id": "jeHEw5tDx_dl"
      },
      "source": [
        "A={1,2,3,4,6}\n",
        "B={4,6,5,7,8}\n",
        "C={5,7,4,9,10}\n",
        "\n",
        "\n"
      ],
      "execution_count": null,
      "outputs": []
    },
    {
      "cell_type": "code",
      "metadata": {
        "id": "D_DsGKQtzb_D",
        "colab": {
          "base_uri": "https://localhost:8080/"
        },
        "outputId": "828e9369-f199-430e-8f53-bbf6a39c2d1b"
      },
      "source": [
        "AUB = []\n",
        "for element in A:\n",
        "      AUB.append(element) #add all element from A\n",
        "for element in B:\n",
        "      AUB.append(element) #add all element from B\n",
        "\n",
        "AUB =set(AUB)\n",
        "\n",
        "AUB\n",
        "      "
      ],
      "execution_count": null,
      "outputs": [
        {
          "output_type": "execute_result",
          "data": {
            "text/plain": [
              "{1, 2, 3, 4, 5, 6, 7, 8}"
            ]
          },
          "metadata": {},
          "execution_count": 2
        }
      ]
    },
    {
      "cell_type": "code",
      "metadata": {
        "id": "2nRYPvWa3wik",
        "colab": {
          "base_uri": "https://localhost:8080/"
        },
        "outputId": "26772c46-7dbf-4997-eea9-41385e7f3554"
      },
      "source": [
        "AUC = []\n",
        "for element in A:\n",
        "    AUC.append(element) #all element from A\n",
        "for element in C:\n",
        "    AUC.append(element) #all element from C\n",
        "\n",
        "AUC = set(AUC)\n",
        "\n",
        "AUC"
      ],
      "execution_count": null,
      "outputs": [
        {
          "output_type": "execute_result",
          "data": {
            "text/plain": [
              "{1, 2, 3, 4, 5, 6, 7, 9, 10}"
            ]
          },
          "metadata": {},
          "execution_count": 3
        }
      ]
    },
    {
      "cell_type": "code",
      "metadata": {
        "colab": {
          "base_uri": "https://localhost:8080/"
        },
        "id": "uvH_4_Iv5GG0",
        "outputId": "db6f1635-a85c-4378-e01f-86d513e70a45"
      },
      "source": [
        "BUC = []\n",
        "for element in B:\n",
        "    BUC.append(element) #all element from B\n",
        "for element in C:\n",
        "    BUC.append(element) # all element from C\n",
        "\n",
        "BUC = set(BUC)\n",
        "\n",
        "BUC"
      ],
      "execution_count": null,
      "outputs": [
        {
          "output_type": "execute_result",
          "data": {
            "text/plain": [
              "{4, 5, 6, 7, 8, 9, 10}"
            ]
          },
          "metadata": {},
          "execution_count": 4
        }
      ]
    },
    {
      "cell_type": "code",
      "metadata": {
        "colab": {
          "base_uri": "https://localhost:8080/"
        },
        "id": "3mh7HSuc5fde",
        "outputId": "26f65c68-31f5-4531-d188-4c7208c76167"
      },
      "source": [
        "AintB =[]\n",
        "for element in A:\n",
        "  if element in B:\n",
        "    AintB.append(element)\n",
        "\n",
        "AintB"
      ],
      "execution_count": null,
      "outputs": [
        {
          "output_type": "execute_result",
          "data": {
            "text/plain": [
              "[4, 6]"
            ]
          },
          "metadata": {},
          "execution_count": 5
        }
      ]
    },
    {
      "cell_type": "code",
      "metadata": {
        "colab": {
          "base_uri": "https://localhost:8080/"
        },
        "id": "3FWyr9EE9Xy0",
        "outputId": "584035ac-8c5b-4699-d304-784b80d3b9da"
      },
      "source": [
        "AintC =[]\n",
        "for element in A:\n",
        "  if element in C:\n",
        "    AintC.append(element)\n",
        "\n",
        "AintC"
      ],
      "execution_count": null,
      "outputs": [
        {
          "output_type": "execute_result",
          "data": {
            "text/plain": [
              "[4]"
            ]
          },
          "metadata": {},
          "execution_count": 6
        }
      ]
    },
    {
      "cell_type": "code",
      "metadata": {
        "colab": {
          "base_uri": "https://localhost:8080/"
        },
        "id": "sqQxnxn8900G",
        "outputId": "9e4c9608-d0f6-4fca-9d7a-12a98c9869ba"
      },
      "source": [
        "BintC = []\n",
        "for element in B:\n",
        "  if element in C:\n",
        "      BintC.append(element)\n",
        "\n",
        "BintC"
      ],
      "execution_count": null,
      "outputs": [
        {
          "output_type": "execute_result",
          "data": {
            "text/plain": [
              "[4, 5, 7]"
            ]
          },
          "metadata": {},
          "execution_count": 7
        }
      ]
    },
    {
      "cell_type": "markdown",
      "metadata": {
        "id": "NARU2-6j-Eta"
      },
      "source": [
        "Now for universal set;"
      ]
    },
    {
      "cell_type": "code",
      "metadata": {
        "colab": {
          "base_uri": "https://localhost:8080/"
        },
        "id": "SuRy2WuK-Ju3",
        "outputId": "a2f64233-6c85-4f6d-a35b-cd3e69a1071d"
      },
      "source": [
        "Allsets=[A,B,C]\n",
        "U=[]\n",
        "for sett in Allsets:\n",
        "  for element in sett:\n",
        "    U.append(element)\n",
        "set(U)"
      ],
      "execution_count": null,
      "outputs": [
        {
          "output_type": "execute_result",
          "data": {
            "text/plain": [
              "{1, 2, 3, 4, 5, 6, 7, 8, 9, 10}"
            ]
          },
          "metadata": {},
          "execution_count": 8
        }
      ]
    },
    {
      "cell_type": "code",
      "metadata": {
        "colab": {
          "base_uri": "https://localhost:8080/"
        },
        "id": "eXZ3UqSxVg5y",
        "outputId": "24b96577-90d4-4590-8001-a33957334199"
      },
      "source": [
        "D=[11,12,13,14,16]\n",
        "Allsets=[A,B,C,D]\n",
        "U=[]\n",
        "for sett in Allsets:\n",
        "  for element in sett:\n",
        "    U.append(element)\n",
        "set(U)\n",
        "\n"
      ],
      "execution_count": null,
      "outputs": [
        {
          "output_type": "execute_result",
          "data": {
            "text/plain": [
              "{1, 2, 3, 4, 5, 6, 7, 8, 9, 10, 11, 12, 13, 14, 16}"
            ]
          },
          "metadata": {},
          "execution_count": 9
        }
      ]
    },
    {
      "cell_type": "markdown",
      "metadata": {
        "id": "G2EfHPwW7AJR"
      },
      "source": [
        "After, finding Universal we can easily find the complements."
      ]
    },
    {
      "cell_type": "code",
      "metadata": {
        "colab": {
          "base_uri": "https://localhost:8080/"
        },
        "id": "lginf_DDJs60",
        "outputId": "e2b1dbc4-385c-4f0a-8dec-be7b22950f3c"
      },
      "source": [
        "AComp=[]\n",
        "for element in U:\n",
        "  if element not in A:\n",
        "    AComp.append(element)\n",
        "    \n",
        "set(AComp)"
      ],
      "execution_count": null,
      "outputs": [
        {
          "output_type": "execute_result",
          "data": {
            "text/plain": [
              "{5, 7, 8, 9, 10, 11, 12, 13, 14, 16}"
            ]
          },
          "metadata": {},
          "execution_count": 10
        }
      ]
    },
    {
      "cell_type": "code",
      "metadata": {
        "colab": {
          "base_uri": "https://localhost:8080/"
        },
        "id": "uKofbvJdWSsJ",
        "outputId": "6e34c419-39bd-4838-b3bc-8a1f648b322b"
      },
      "source": [
        "BComp=[]\n",
        "for element in U:\n",
        "  if element not in B:\n",
        "    BComp.append(element)\n",
        "    \n",
        "set(BComp)"
      ],
      "execution_count": null,
      "outputs": [
        {
          "output_type": "execute_result",
          "data": {
            "text/plain": [
              "{1, 2, 3, 9, 10, 11, 12, 13, 14, 16}"
            ]
          },
          "metadata": {},
          "execution_count": 11
        }
      ]
    },
    {
      "cell_type": "code",
      "metadata": {
        "colab": {
          "base_uri": "https://localhost:8080/"
        },
        "id": "kJrYt8nqWcJY",
        "outputId": "cbfa56d7-0846-480e-ddc0-1ab323709451"
      },
      "source": [
        "CComp=[]\n",
        "for element in U:\n",
        "  if element not in C:\n",
        "    CComp.append(element)\n",
        "    \n",
        "set(CComp)"
      ],
      "execution_count": null,
      "outputs": [
        {
          "output_type": "execute_result",
          "data": {
            "text/plain": [
              "{1, 2, 3, 6, 8, 11, 12, 13, 14, 16}"
            ]
          },
          "metadata": {},
          "execution_count": 12
        }
      ]
    },
    {
      "cell_type": "code",
      "metadata": {
        "id": "RK7ngIumWqN_",
        "colab": {
          "base_uri": "https://localhost:8080/"
        },
        "outputId": "a02154c7-7671-475a-bf69-e95af7a57f77"
      },
      "source": [
        "AUBComp=[]\n",
        "for element in U:\n",
        "  if element not in AUB:\n",
        "    AUBComp.append(element)\n",
        "\n",
        "set(AUBComp)"
      ],
      "execution_count": null,
      "outputs": [
        {
          "output_type": "execute_result",
          "data": {
            "text/plain": [
              "{9, 10, 11, 12, 13, 14, 16}"
            ]
          },
          "metadata": {},
          "execution_count": 13
        }
      ]
    },
    {
      "cell_type": "markdown",
      "metadata": {
        "id": "iOKE3atrXgq3"
      },
      "source": [
        "For any subsets;"
      ]
    },
    {
      "cell_type": "code",
      "metadata": {
        "id": "snvL2fSiXlYw",
        "colab": {
          "base_uri": "https://localhost:8080/"
        },
        "outputId": "f72c43aa-7f5b-49f8-b5ef-cd70bccf1ac7"
      },
      "source": [
        "A.issubset(B)\n",
        "B.issubset(A)\n",
        "A.issubset(C)"
      ],
      "execution_count": null,
      "outputs": [
        {
          "output_type": "execute_result",
          "data": {
            "text/plain": [
              "False"
            ]
          },
          "metadata": {},
          "execution_count": 15
        }
      ]
    },
    {
      "cell_type": "code",
      "metadata": {
        "colab": {
          "base_uri": "https://localhost:8080/"
        },
        "id": "nUXpLFTqYmpp",
        "outputId": "740fb9b5-a4fb-4850-de08-1a3cffc0a250"
      },
      "source": [
        "A.issubset(D)"
      ],
      "execution_count": null,
      "outputs": [
        {
          "output_type": "execute_result",
          "data": {
            "text/plain": [
              "False"
            ]
          },
          "metadata": {},
          "execution_count": 16
        }
      ]
    },
    {
      "cell_type": "code",
      "metadata": {
        "colab": {
          "base_uri": "https://localhost:8080/"
        },
        "id": "JPbTbEO_Yv2B",
        "outputId": "27c19c81-ed61-4662-96e9-65d0f4236dd7"
      },
      "source": [
        "A.issubset(U)"
      ],
      "execution_count": null,
      "outputs": [
        {
          "output_type": "execute_result",
          "data": {
            "text/plain": [
              "True"
            ]
          },
          "metadata": {},
          "execution_count": 18
        }
      ]
    },
    {
      "cell_type": "markdown",
      "metadata": {
        "id": "qLVsBeiT7L22"
      },
      "source": [
        "Above, we observe A is a subset of U."
      ]
    },
    {
      "cell_type": "code",
      "metadata": {
        "colab": {
          "base_uri": "https://localhost:8080/"
        },
        "id": "ePJCmxj9ZR1C",
        "outputId": "bee8d2b2-392c-4445-aecd-c23d4ef6448e"
      },
      "source": [
        "def powerset(a):\n",
        "    b = len(a)\n",
        "    mask=[2**i for i in range(b)]\n",
        "    for i in range(2**b):\n",
        "      yield [ss for mask,ss in zip(mask,a)if i & mask]\n",
        "\n",
        "print(list(powerset(A)))"
      ],
      "execution_count": null,
      "outputs": [
        {
          "output_type": "stream",
          "name": "stdout",
          "text": [
            "[[], [1], [2], [1, 2], [3], [1, 3], [2, 3], [1, 2, 3], [4], [1, 4], [2, 4], [1, 2, 4], [3, 4], [1, 3, 4], [2, 3, 4], [1, 2, 3, 4], [6], [1, 6], [2, 6], [1, 2, 6], [3, 6], [1, 3, 6], [2, 3, 6], [1, 2, 3, 6], [4, 6], [1, 4, 6], [2, 4, 6], [1, 2, 4, 6], [3, 4, 6], [1, 3, 4, 6], [2, 3, 4, 6], [1, 2, 3, 4, 6]]\n"
          ]
        }
      ]
    },
    {
      "cell_type": "markdown",
      "metadata": {
        "id": "Uyl7vWxMPEwQ"
      },
      "source": [
        "2. Function\n",
        "\n",
        "      Here we define below given function,\n",
        "\n",
        "$$\n",
        "f(x) = \\frac{1}{{2\\pi}}e^{\\frac{x^2}2}\n",
        "$$"
      ]
    },
    {
      "cell_type": "code",
      "metadata": {
        "id": "2Ys8lHZofSAF"
      },
      "source": [
        "import math\n",
        "import numpy as np\n",
        "\n",
        "def gaussian(x):\n",
        "  return 1/(2*math.pi)*np.e**(x**2/2)\n"
      ],
      "execution_count": null,
      "outputs": []
    },
    {
      "cell_type": "code",
      "metadata": {
        "colab": {
          "base_uri": "https://localhost:8080/"
        },
        "id": "1D34p54-gXGa",
        "outputId": "5ec6c3bb-a29e-433c-c6f1-5db6036083e2"
      },
      "source": [
        "gaussian(0)"
      ],
      "execution_count": null,
      "outputs": [
        {
          "output_type": "execute_result",
          "data": {
            "text/plain": [
              "0.15915494309189535"
            ]
          },
          "metadata": {},
          "execution_count": 30
        }
      ]
    },
    {
      "cell_type": "code",
      "metadata": {
        "id": "7dT1NP_HgiyL",
        "colab": {
          "base_uri": "https://localhost:8080/",
          "height": 293
        },
        "outputId": "a6e448b8-6c91-4aa6-b425-fc0e0c1c3794"
      },
      "source": [
        "import matplotlib.pyplot as grap\n",
        "a = np.arange(-7,3,.1)\n",
        "grap.plot(a,gaussian(a))\n"
      ],
      "execution_count": null,
      "outputs": [
        {
          "output_type": "execute_result",
          "data": {
            "text/plain": [
              "[<matplotlib.lines.Line2D at 0x7fdd00abf210>]"
            ]
          },
          "metadata": {},
          "execution_count": 41
        },
        {
          "output_type": "display_data",
          "data": {
            "image/png": "[encoded data removed]",
            "text/plain": [
              "<Figure size 432x288 with 1 Axes>"
            ]
          },
          "metadata": {
            "needs_background": "light"
          }
        }
      ]
    },
    {
      "cell_type": "markdown",
      "metadata": {
        "id": "xFbrFMTXi_dU"
      },
      "source": [
        "The graph is a function. My function doesnt seem to be bijective based on graph i would say its like one to one. As, it passes horizontal and vertical test. However, when i tried to change the range the graph seems to be same. For further investigation, \n",
        "let work on ther interval [0,5]\n",
        "\n",
        "For inverse;\n",
        "\n",
        "swapping x and y;\n",
        "\n",
        "$$\n",
        "y = \\frac{1}{{2\\pi}}e^{\\frac{x^2}2}\n",
        "$$\n",
        "\n",
        "            ;\n",
        "\n",
        "$$\n",
        "x = \\frac{1}{{2\\pi}}e^{\\frac{y^2}2}\n",
        "$$\n",
        "\n",
        "Now solve for y;\n",
        "\n",
        "$$\n",
        "ln(2 \\pi x)={\\frac{y^2}2}\n",
        "$$\n",
        "\n",
        "$$\n",
        "y=\\sqrt{2 ln (2 \\pi x)}\n",
        "$$"
      ]
    },
    {
      "cell_type": "code",
      "metadata": {
        "id": "Q26yWMWFpc9I"
      },
      "source": [
        "def gaussianInverse(x):\n",
        "  return np.sqrt(2*np.log((2*math.pi)*x))\n"
      ],
      "execution_count": null,
      "outputs": []
    },
    {
      "cell_type": "code",
      "metadata": {
        "colab": {
          "base_uri": "https://localhost:8080/"
        },
        "id": "Zl0kmKywrjaP",
        "outputId": "6241812c-14a7-405d-f9d5-7c1cdbb97921"
      },
      "source": [
        "gaussianInverse(gaussian(5))"
      ],
      "execution_count": null,
      "outputs": [
        {
          "output_type": "execute_result",
          "data": {
            "text/plain": [
              "5.180528647388154"
            ]
          },
          "metadata": {},
          "execution_count": 82
        }
      ]
    },
    {
      "cell_type": "code",
      "metadata": {
        "colab": {
          "base_uri": "https://localhost:8080/",
          "height": 377
        },
        "id": "xU8Cmc5vt1NQ",
        "outputId": "7beb6078-8e16-4176-8239-f47051f7b6bc"
      },
      "source": [
        "import matplotlib.pyplot as plt\n",
        "\n",
        "x1= np.arange(0,5,.1)\n",
        "x2= np.arange(0,.6,.01)\n",
        "\n",
        "plt.plot(x1,gaussian(x1))\n",
        "plt.plot(x2,gaussianInverse(x2))\n",
        "plt.plot(x1,x1)\n",
        "\n",
        "plt.xlim(0,4)\n",
        "plt.ylim(0,4)"
      ],
      "execution_count": null,
      "outputs": [
        {
          "output_type": "stream",
          "name": "stderr",
          "text": [
            "/usr/local/lib/python3.7/dist-packages/ipykernel_launcher.py:2: RuntimeWarning: divide by zero encountered in log\n",
            "  \n",
            "/usr/local/lib/python3.7/dist-packages/ipykernel_launcher.py:2: RuntimeWarning: invalid value encountered in sqrt\n",
            "  \n"
          ]
        },
        {
          "output_type": "execute_result",
          "data": {
            "text/plain": [
              "(0.0, 4.0)"
            ]
          },
          "metadata": {},
          "execution_count": 52
        },
        {
          "output_type": "display_data",
          "data": {
            "image/png": "[encoded data removed]",
            "text/plain": [
              "<Figure size 432x288 with 1 Axes>"
            ]
          },
          "metadata": {
            "needs_background": "light"
          }
        }
      ]
    },
    {
      "cell_type": "markdown",
      "metadata": {
        "id": "WNXryeamu1Je"
      },
      "source": [
        "Here, the limit was set same on both x and y axis. To show the inverse a line was plotted for y=x."
      ]
    },
    {
      "cell_type": "markdown",
      "metadata": {
        "id": "18xMBuw7vZe_"
      },
      "source": [
        "3. Dictionaries\n"
      ]
    },
    {
      "cell_type": "code",
      "metadata": {
        "id": "ME4FXRI5w0AR"
      },
      "source": [
        "ActualDictionary = dict({1:4,2:5,4:7,6:8})\n",
        "\n",
        "\n",
        "\n",
        "\n",
        "\n"
      ],
      "execution_count": null,
      "outputs": []
    },
    {
      "cell_type": "code",
      "metadata": {
        "id": "wS7s7kP1y31C"
      },
      "source": [
        "newList = [ActualDictionary.get(x,x) for x in C]"
      ],
      "execution_count": null,
      "outputs": []
    },
    {
      "cell_type": "code",
      "metadata": {
        "colab": {
          "base_uri": "https://localhost:8080/"
        },
        "id": "k3jP7sTPxRf6",
        "outputId": "4fa0924c-8bee-46d2-a905-11d092700512"
      },
      "source": [
        "newList"
      ],
      "execution_count": null,
      "outputs": [
        {
          "output_type": "execute_result",
          "data": {
            "text/plain": [
              "[7, 5, 7, 9, 10]"
            ]
          },
          "metadata": {},
          "execution_count": 80
        }
      ]
    },
    {
      "cell_type": "markdown",
      "metadata": {
        "id": "FXyZlosp4Vua"
      },
      "source": [
        "The dictionary is a function as some things were intentionally made changed to observe desired outcome. AS, dictionary itself is not capable to do so. Meanwhile, this function is not onto so its not bijective as well.\n",
        "\n",
        "The dictionary is transitive but not symmetric and relexive as it satisfyes the condition of transitive. As, no counter examples are observed.\n"
      ]
    }
  ]
}